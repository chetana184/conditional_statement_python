{
 "cells": [
  {
   "cell_type": "code",
   "execution_count": 7,
   "id": "03f478f7-1b2b-4704-81f0-b0856e115c65",
   "metadata": {},
   "outputs": [
    {
     "name": "stdout",
     "output_type": "stream",
     "text": [
      "Eligible\n"
     ]
    }
   ],
   "source": [
    "age=21\n",
    "if age>18:\n",
    "    print('Eligible')\n",
    "else:\n",
    "    print('not Eligible')"
   ]
  },
  {
   "cell_type": "code",
   "execution_count": 8,
   "id": "d73b03ba-4433-4d3f-9e20-4a04201fc249",
   "metadata": {},
   "outputs": [
    {
     "name": "stdout",
     "output_type": "stream",
     "text": [
      "Not Available\n"
     ]
    }
   ],
   "source": [
    "course='java'\n",
    "if course=='Python':\n",
    "    print('Available')\n",
    "else:\n",
    "    print('Not Available')"
   ]
  },
  {
   "cell_type": "code",
   "execution_count": 9,
   "id": "c845fb90-640b-4c3d-b12e-8f41b1938f22",
   "metadata": {},
   "outputs": [
    {
     "name": "stdout",
     "output_type": "stream",
     "text": [
      "not fev food\n"
     ]
    }
   ],
   "source": [
    "food='burger'\n",
    "if food=='Pizza':\n",
    "    print('fev food')\n",
    "else:\n",
    "    print('not fev food')"
   ]
  },
  {
   "cell_type": "code",
   "execution_count": 10,
   "id": "8e8fb74e-e454-4c1b-93e5-882a0c958ce2",
   "metadata": {},
   "outputs": [
    {
     "name": "stdout",
     "output_type": "stream",
     "text": [
      "This is not my name\n"
     ]
    }
   ],
   "source": [
    "name='Ishwari'\n",
    "if name=='Chetana':\n",
    "    print('my name is Chetana')\n",
    "else:\n",
    "    print('This is not my name')"
   ]
  },
  {
   "cell_type": "code",
   "execution_count": 11,
   "id": "3aa50dc4-d91a-45d3-a73e-51bca0e31fd3",
   "metadata": {},
   "outputs": [
    {
     "name": "stdout",
     "output_type": "stream",
     "text": [
      "fev color\n"
     ]
    }
   ],
   "source": [
    "color='Pink'\n",
    "if color=='Pink':\n",
    "    print('fev color')\n",
    "else:\n",
    "    print('not fev color')"
   ]
  },
  {
   "cell_type": "code",
   "execution_count": 12,
   "id": "58016160-c2f3-4964-9f1a-5c3c9df6498c",
   "metadata": {},
   "outputs": [
    {
     "name": "stdin",
     "output_type": "stream",
     "text": [
      "Enter Number 10\n"
     ]
    },
    {
     "name": "stdout",
     "output_type": "stream",
     "text": [
      "Even\n"
     ]
    }
   ],
   "source": [
    "num =int(input('Enter Number'))\n",
    "if num % 2 ==0:\n",
    "    print('Even')\n",
    "else:\n",
    "    print('Odd')"
   ]
  },
  {
   "cell_type": "code",
   "execution_count": 13,
   "id": "abf37e33-2f98-4264-873d-5f626517e233",
   "metadata": {},
   "outputs": [
    {
     "name": "stdin",
     "output_type": "stream",
     "text": [
      "Enter your username  admin\n",
      "Enter your password hello123\n"
     ]
    },
    {
     "name": "stdout",
     "output_type": "stream",
     "text": [
      "Log in Completed\n"
     ]
    }
   ],
   "source": [
    "user_name = input ('Enter your username ')\n",
    "password = input('Enter your password')\n",
    "if user_name == 'admin' and password == 'hello123':\n",
    "    print('Log in Completed')\n",
    "else:\n",
    "    print('Wrong Username and Password')"
   ]
  },
  {
   "cell_type": "code",
   "execution_count": null,
   "id": "b0d206f6-8291-41e5-8677-d5dd46e6187a",
   "metadata": {},
   "outputs": [],
   "source": []
  }
 ],
 "metadata": {
  "kernelspec": {
   "display_name": "Python 3 (ipykernel)",
   "language": "python",
   "name": "python3"
  },
  "language_info": {
   "codemirror_mode": {
    "name": "ipython",
    "version": 3
   },
   "file_extension": ".py",
   "mimetype": "text/x-python",
   "name": "python",
   "nbconvert_exporter": "python",
   "pygments_lexer": "ipython3",
   "version": "3.12.7"
  }
 },
 "nbformat": 4,
 "nbformat_minor": 5
}
