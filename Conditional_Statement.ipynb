{
 "cells": [
  {
   "cell_type": "markdown",
   "id": "0b13ab07-778e-4c96-9b66-aa30932c8b57",
   "metadata": {},
   "source": [
    "# Conditional Statement"
   ]
  },
  {
   "cell_type": "markdown",
   "id": "e8826fe2-f6e4-4d58-92de-57617560b5dd",
   "metadata": {},
   "source": [
    "# if Statement"
   ]
  },
  {
   "cell_type": "code",
   "execution_count": 1,
   "id": "863bb8da-ca70-4b0a-a901-ce9559a253b5",
   "metadata": {},
   "outputs": [
    {
     "name": "stdout",
     "output_type": "stream",
     "text": [
      "Positive Number\n"
     ]
    }
   ],
   "source": [
    "num = 5\n",
    "if num > 0 :\n",
    "    print('Positive Number')"
   ]
  },
  {
   "cell_type": "code",
   "execution_count": 11,
   "id": "d91b6cbb-d990-489a-8f42-22d040792a9c",
   "metadata": {},
   "outputs": [
    {
     "name": "stdout",
     "output_type": "stream",
     "text": [
      "You are eligible to Vote\n"
     ]
    }
   ],
   "source": [
    "age = 21\n",
    "if age > 18:\n",
    "    print('You are eligible to Vote')"
   ]
  },
  {
   "cell_type": "code",
   "execution_count": 5,
   "id": "30ea7f04-3363-40f1-9e3f-466886fca887",
   "metadata": {},
   "outputs": [
    {
     "name": "stdout",
     "output_type": "stream",
     "text": [
      "Even Number\n"
     ]
    }
   ],
   "source": [
    "a=4\n",
    "if a%2 == 0:\n",
    "    print('Even Number')"
   ]
  },
  {
   "cell_type": "markdown",
   "id": "d36be036-f80d-44d1-abd3-7c09d60ac324",
   "metadata": {},
   "source": [
    "# if-else Statement"
   ]
  },
  {
   "cell_type": "code",
   "execution_count": 7,
   "id": "0f29c2b3-b9ce-46e9-8669-9da7a1a8c6dc",
   "metadata": {},
   "outputs": [
    {
     "name": "stdout",
     "output_type": "stream",
     "text": [
      "Odd\n"
     ]
    }
   ],
   "source": [
    "num = 34\n",
    "if num % 2 != 0:\n",
    "    print('Even')\n",
    "else:\n",
    "    print('Odd')"
   ]
  },
  {
   "cell_type": "code",
   "execution_count": 10,
   "id": "ff782839-8e4d-4633-96c9-cc6bca2ab8d8",
   "metadata": {},
   "outputs": [
    {
     "name": "stdout",
     "output_type": "stream",
     "text": [
      "Access Granted\n"
     ]
    }
   ],
   "source": [
    "password = 'admin234'\n",
    "if password == 'admin234':\n",
    "    print('Access Granted')\n",
    "else:\n",
    "    print('Access Denied')"
   ]
  },
  {
   "cell_type": "code",
   "execution_count": 16,
   "id": "1c468835-1dfc-4a89-81b7-ca2f6f36e83e",
   "metadata": {},
   "outputs": [
    {
     "name": "stdout",
     "output_type": "stream",
     "text": [
      "Vowel\n"
     ]
    }
   ],
   "source": [
    "char = 'e'\n",
    "if char in 'aeiouAEIOU':\n",
    "    print('Vowel')\n",
    "else:\n",
    "    print('Consonant')"
   ]
  },
  {
   "cell_type": "markdown",
   "id": "5b4b6eeb-df37-4f27-bd1f-c008ce263b41",
   "metadata": {},
   "source": [
    "# if-elif-else Statement"
   ]
  },
  {
   "cell_type": "code",
   "execution_count": 17,
   "id": "774ac8e6-5798-4303-8d76-8d9dcfa23b92",
   "metadata": {},
   "outputs": [
    {
     "name": "stdout",
     "output_type": "stream",
     "text": [
      "Zero\n"
     ]
    }
   ],
   "source": [
    "number = 0\n",
    "if number > 0:\n",
    "    print('Positive')\n",
    "elif number < 0:\n",
    "    print('Negative')\n",
    "else:\n",
    "    print('Zero')"
   ]
  },
  {
   "cell_type": "code",
   "execution_count": 20,
   "id": "426961a6-7b20-4130-a3ed-d9eb5905a93a",
   "metadata": {},
   "outputs": [
    {
     "name": "stdout",
     "output_type": "stream",
     "text": [
      "Grade A\n"
     ]
    }
   ],
   "source": [
    "marks = 85\n",
    "if marks >= 90:\n",
    "    print('Grade A+')\n",
    "elif marks >= 75:\n",
    "    print('Grade A')\n",
    "elif marks >= 60:\n",
    "     print('Grade B')\n",
    "else:\n",
    " print('Fail')"
   ]
  },
  {
   "cell_type": "code",
   "execution_count": 21,
   "id": "52937be9-bc2a-4aa4-a4cd-2671ec57b5a5",
   "metadata": {},
   "outputs": [
    {
     "name": "stdout",
     "output_type": "stream",
     "text": [
      "Warm\n"
     ]
    }
   ],
   "source": [
    "temp = 25\n",
    "if temp >= 40:\n",
    "    print('Very Hot')\n",
    "elif temp >= 30:\n",
    "    print('Hot')\n",
    "elif temp >= 20:\n",
    "    print('Warm')\n",
    "else:\n",
    "    print('Cold')"
   ]
  },
  {
   "cell_type": "markdown",
   "id": "f5cc7bc6-9b4f-44c6-bcb4-f624344e6d3d",
   "metadata": {},
   "source": [
    "# nested if Statement"
   ]
  },
  {
   "cell_type": "code",
   "execution_count": 22,
   "id": "be34f387-8aed-4d0e-9a9b-d8b31cc081ec",
   "metadata": {},
   "outputs": [
    {
     "name": "stdout",
     "output_type": "stream",
     "text": [
      "Positive and Even\n"
     ]
    }
   ],
   "source": [
    "num = 6\n",
    "if num > 0:\n",
    "    if num % 2 ==0:\n",
    "        print('Positive and Even')"
   ]
  },
  {
   "cell_type": "code",
   "execution_count": 48,
   "id": "0936b8d2-2812-43ea-868b-faf42c063add",
   "metadata": {},
   "outputs": [
    {
     "name": "stdout",
     "output_type": "stream",
     "text": [
      "Pass with Distinction\n"
     ]
    }
   ],
   "source": [
    "marks = 85\n",
    "if marks >=40:\n",
    "    if marks >=75:\n",
    "        print('Pass with Distinction')\n",
    "    else:\n",
    "        print('Pass')\n",
    "else:\n",
    "    print('Fail')"
   ]
  },
  {
   "cell_type": "code",
   "execution_count": 52,
   "id": "4d2346f8-8e63-4241-bffb-544d633f6913",
   "metadata": {},
   "outputs": [
    {
     "name": "stdout",
     "output_type": "stream",
     "text": [
      "Child\n"
     ]
    }
   ],
   "source": [
    "age = 8\n",
    "if age > 0:\n",
    "    if age <= 12:\n",
    "      print('Child')\n",
    "else:\n",
    "    print('Young')"
   ]
  },
  {
   "cell_type": "code",
   "execution_count": null,
   "id": "9c090193-c2e0-4abe-99fb-ce31e992b61b",
   "metadata": {},
   "outputs": [],
   "source": []
  }
 ],
 "metadata": {
  "kernelspec": {
   "display_name": "Python 3 (ipykernel)",
   "language": "python",
   "name": "python3"
  },
  "language_info": {
   "codemirror_mode": {
    "name": "ipython",
    "version": 3
   },
   "file_extension": ".py",
   "mimetype": "text/x-python",
   "name": "python",
   "nbconvert_exporter": "python",
   "pygments_lexer": "ipython3",
   "version": "3.12.7"
  }
 },
 "nbformat": 4,
 "nbformat_minor": 5
}
