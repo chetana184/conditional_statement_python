{
 "cells": [
  {
   "cell_type": "code",
   "execution_count": 1,
   "id": "4283a031-fca5-48a2-8b5f-4d73135f5275",
   "metadata": {},
   "outputs": [
    {
     "name": "stdout",
     "output_type": "stream",
     "text": [
      "You have written wrong marks in the range 0-100\n"
     ]
    }
   ],
   "source": [
    "marks = -10\n",
    "if marks >= 90 and marks <= 100 :\n",
    "    print('A+')\n",
    "elif marks >= 70 and marks < 90:\n",
    "    print('B')\n",
    "elif marks >= 35 and marks < 70:\n",
    "    print('C')\n",
    "elif marks >= 0 and marks < 35:\n",
    "    print('Fail')\n",
    "else:\n",
    "    print('You have written wrong marks in the range 0-100')\n",
    "    "
   ]
  },
  {
   "cell_type": "code",
   "execution_count": 3,
   "id": "b65006a6-f755-4a22-adf5-a35be6663169",
   "metadata": {},
   "outputs": [
    {
     "name": "stdout",
     "output_type": "stream",
     "text": [
      "A+\n"
     ]
    }
   ],
   "source": [
    "marks = 95\n",
    "if marks >= 90 and marks <= 100 :\n",
    "    print('A+')\n",
    "elif marks >= 70 and marks < 90:\n",
    "    print('B')\n",
    "elif marks >= 35 and marks < 70:\n",
    "    print('C')\n",
    "elif marks >= 0 and marks < 35:\n",
    "    print('Fail')\n",
    "else:\n",
    "    print('You have written wrong marks in the range 0-100')"
   ]
  },
  {
   "cell_type": "code",
   "execution_count": 11,
   "id": "9d8876b5-3027-4092-97dd-cf7c43d11532",
   "metadata": {},
   "outputs": [
    {
     "name": "stdin",
     "output_type": "stream",
     "text": [
      "Enter your Course HTML\n"
     ]
    },
    {
     "name": "stdout",
     "output_type": "stream",
     "text": [
      "Your course is not availabel\n"
     ]
    }
   ],
   "source": [
    "course = input('Enter your Course')\n",
    "if course=='Python':\n",
    "    print('Python is availabel')\n",
    "elif course=='Java':\n",
    "    print('Java is availabel')\n",
    "elif course=='Data Science':\n",
    "    print('Data Science is availabel')\n",
    "elif course=='Data Analysis':\n",
    "    print('Data Analysis is availabel')\n",
    "else:\n",
    "    print('Your course is not availabel')\n",
    "    "
   ]
  },
  {
   "cell_type": "code",
   "execution_count": 1,
   "id": "c6341ab8-e840-4904-a320-7a42a9fb7c91",
   "metadata": {},
   "outputs": [
    {
     "name": "stdout",
     "output_type": "stream",
     "text": [
      "Pass\n"
     ]
    }
   ],
   "source": [
    "num=60\n",
    "if num > 50:\n",
    "    print('Pass')\n",
    "elif num < 35:\n",
    "    print('Fail')\n",
    "else:\n",
    "    print('Average')"
   ]
  },
  {
   "cell_type": "code",
   "execution_count": 2,
   "id": "abdbdcb9-a087-44dc-8f83-d7baa3768579",
   "metadata": {},
   "outputs": [
    {
     "name": "stdout",
     "output_type": "stream",
     "text": [
      "Odd Numbers\n"
     ]
    }
   ],
   "source": [
    "num=7\n",
    "if num % 2 ==0:\n",
    "    print('Even Numbers')\n",
    "elif num % 2 !=0:\n",
    "    print('Odd Numbers')\n",
    "else:\n",
    "    print('complete numbers')"
   ]
  },
  {
   "cell_type": "code",
   "execution_count": 3,
   "id": "b0b9e8fc-0510-42ba-9b80-331a793a5f77",
   "metadata": {},
   "outputs": [
    {
     "name": "stdout",
     "output_type": "stream",
     "text": [
      "Even Numbers\n"
     ]
    }
   ],
   "source": [
    "num=4\n",
    "if num % 2 ==0:\n",
    "    print('Even Numbers')\n",
    "elif num % 2 !=0:\n",
    "    print('Odd Numbers')\n",
    "else:\n",
    "    print('complete numbers')"
   ]
  },
  {
   "cell_type": "code",
   "execution_count": null,
   "id": "96000355-c7ce-4762-a9c7-b270155b2cfd",
   "metadata": {},
   "outputs": [],
   "source": []
  }
 ],
 "metadata": {
  "kernelspec": {
   "display_name": "Python 3 (ipykernel)",
   "language": "python",
   "name": "python3"
  },
  "language_info": {
   "codemirror_mode": {
    "name": "ipython",
    "version": 3
   },
   "file_extension": ".py",
   "mimetype": "text/x-python",
   "name": "python",
   "nbconvert_exporter": "python",
   "pygments_lexer": "ipython3",
   "version": "3.12.7"
  }
 },
 "nbformat": 4,
 "nbformat_minor": 5
}
